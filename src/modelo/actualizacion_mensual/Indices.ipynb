{
 "cells": [
  {
   "cell_type": "code",
   "id": "initial_id",
   "metadata": {
    "collapsed": true,
    "ExecuteTime": {
     "end_time": "2025-02-06T22:20:05.068228Z",
     "start_time": "2025-02-06T22:20:05.046839Z"
    }
   },
   "source": [
    "\n",
    "import pandas as pd\n",
    "import os\n",
    "from src.__special__ import indices_path\n",
    "import numpy as np\n",
    "\n",
    "file_path = os.path.join(indices_path, 'INDEXP.csv')\n",
    "\n",
    "INDEXP = pd.read_csv(file_path)"
   ],
   "outputs": [],
   "execution_count": 95
  },
  {
   "metadata": {
    "ExecuteTime": {
     "end_time": "2025-02-06T22:31:32.418725Z",
     "start_time": "2025-02-06T22:31:32.399078Z"
    }
   },
   "cell_type": "code",
   "source": [
    "from sklearn.decomposition import PCA\n",
    "from sklearn.preprocessing import StandardScaler\n",
    "\n",
    "# Seleccionar todas las columnas menos la primera\n",
    "INDEXP_pca = INDEXP.iloc[:, 1:].dropna()  # Esto selecciona todas las columnas excepto la primera y elimina NaN\n",
    "\n",
    "# Estandarizar datos (equivalente a matriz de correlación en PCA)\n",
    "scaler = StandardScaler()\n",
    "data_scaled = scaler.fit_transform(INDEXP_pca)\n",
    "\n"
   ],
   "id": "3bfcb39aa0f10943",
   "outputs": [],
   "execution_count": 104
  },
  {
   "metadata": {
    "ExecuteTime": {
     "end_time": "2025-02-06T22:32:42.160885Z",
     "start_time": "2025-02-06T22:32:42.142297Z"
    }
   },
   "cell_type": "code",
   "source": [
    "# Calcular media y desviación estándar ignorando NaN\n",
    "mean = np.nanmean(INDEXP_pca, axis=0)\n",
    "std = np.nanstd(INDEXP_pca, axis=0)\n",
    "\n",
    "# Evitar divisiones por cero en columnas constantes\n",
    "std[std == 0] = 1\n",
    "\n",
    "# Aplicar estandarización sin afectar los NaN\n",
    "data_scaled = (INDEXP_pca - mean) / std\n",
    "data_scaled.shape\n",
    "INDEXP_pca.shape"
   ],
   "id": "7b1d163b5fa2a360",
   "outputs": [
    {
     "data": {
      "text/plain": [
       "(250, 36)"
      ]
     },
     "execution_count": 110,
     "metadata": {},
     "output_type": "execute_result"
    }
   ],
   "execution_count": 110
  },
  {
   "metadata": {
    "ExecuteTime": {
     "end_time": "2025-02-06T22:32:13.905393Z",
     "start_time": "2025-02-06T22:32:13.888574Z"
    }
   },
   "cell_type": "code",
   "source": [
    "# Aplicar PCA\n",
    "pca = PCA(n_components=5)\n",
    "pca_result = pca.fit_transform(data_scaled)\n",
    "\n",
    "# Convertir resultados en DataFrame\n",
    "pca_df = pd.DataFrame(pca_result, index=INDEXP_pca.index, columns=[f'PC{i+1}' for i in range(5)])\n",
    "pca_result"
   ],
   "id": "b18bbec6c0117fcf",
   "outputs": [
    {
     "data": {
      "text/plain": [
       "array([[-0.14082494, -0.3680257 , -0.31434945,  0.15697813, -0.46486961],\n",
       "       [-0.14488085,  0.0613828 , -0.01260377, -0.54761979, -0.41428865],\n",
       "       [-0.15305285, -0.00697161, -0.03336654,  0.11590285, -0.63478586],\n",
       "       ...,\n",
       "       [ 0.61610091, -1.04707833, -1.29761821,  0.00662211,  0.0935687 ],\n",
       "       [ 0.5420275 , -0.65076322, -1.10343849, -0.30345287,  0.05508169],\n",
       "       [ 0.54108834, -0.51502838, -1.13308383, -0.09672702,  0.04186314]],\n",
       "      shape=(250, 5))"
      ]
     },
     "execution_count": 106,
     "metadata": {},
     "output_type": "execute_result"
    }
   ],
   "execution_count": 106
  },
  {
   "metadata": {
    "ExecuteTime": {
     "end_time": "2025-02-06T22:20:07.866481Z",
     "start_time": "2025-02-06T22:20:07.858462Z"
    }
   },
   "cell_type": "code",
   "source": [
    "explained_variance = pca.explained_variance_ratio_\n",
    "# 6. Ver la varianza explicada por cada componente\n",
    "\n",
    "\n",
    "fact_load = pca.components_.T\n",
    "fact_load"
   ],
   "id": "1375c060c2fd8d51",
   "outputs": [
    {
     "data": {
      "text/plain": [
       "array([[ 1.20797534e-01,  2.61695834e-01,  1.75127618e-01,\n",
       "        -2.71865419e-01, -2.51007691e-01],\n",
       "       [ 1.88353376e-01,  1.81101179e-02, -1.63117790e-01,\n",
       "         1.12744201e-01, -5.42929067e-02],\n",
       "       [ 1.74244095e-01,  1.56856686e-01, -2.13879264e-01,\n",
       "        -2.44901417e-02, -6.42558658e-02],\n",
       "       [ 1.79010049e-01,  1.25593899e-01, -2.10182675e-01,\n",
       "        -6.28275327e-02, -6.16765603e-02],\n",
       "       [ 1.42444978e-01,  1.74117478e-01, -3.43515918e-02,\n",
       "        -2.80596606e-01,  4.81416970e-01],\n",
       "       [ 1.81703720e-01,  1.04288601e-01, -1.96223744e-01,\n",
       "        -4.01040610e-02, -3.62180234e-02],\n",
       "       [ 1.59469006e-01,  2.05319344e-01, -2.41102386e-01,\n",
       "        -9.66388025e-04, -4.98192135e-02],\n",
       "       [ 1.69866499e-01,  1.69373398e-01, -2.33973319e-01,\n",
       "        -1.54363788e-02, -5.72737072e-02],\n",
       "       [ 1.73798826e-01,  1.53354588e-01, -2.27904718e-01,\n",
       "        -1.25278424e-02, -4.89508738e-02],\n",
       "       [ 1.81204796e-01,  1.55678797e-01,  9.05968210e-03,\n",
       "        -1.92433507e-01, -9.29127662e-02],\n",
       "       [ 9.47721635e-02,  3.11364815e-01,  1.45480807e-01,\n",
       "        -2.85499406e-01, -2.31661639e-02],\n",
       "       [ 1.31663817e-01,  2.67259466e-01,  1.68250792e-01,\n",
       "        -2.32706650e-01, -1.00235129e-01],\n",
       "       [ 1.45586160e-01,  1.62450996e-01,  2.07874132e-01,\n",
       "         2.52051031e-01, -1.60575066e-01],\n",
       "       [ 1.82495441e-01, -1.71394772e-01, -4.35773072e-02,\n",
       "        -3.12128817e-02, -7.33317728e-02],\n",
       "       [ 1.92872535e-01, -5.04621371e-02, -9.67539572e-02,\n",
       "         2.00538713e-01, -9.98264263e-03],\n",
       "       [ 1.93428509e-01, -6.33961005e-02, -1.04565024e-01,\n",
       "         1.51624363e-01, -2.01308050e-02],\n",
       "       [ 1.64167876e-01,  7.94671206e-02,  5.67715073e-03,\n",
       "        -3.14762098e-02,  5.21611591e-01],\n",
       "       [ 1.91426802e-01, -8.46049583e-02, -8.85136110e-02,\n",
       "         1.09335732e-01, -8.21591759e-03],\n",
       "       [ 1.86233879e-01, -2.25520820e-02, -1.06613966e-01,\n",
       "         2.77754444e-01,  4.13779130e-02],\n",
       "       [ 1.90964323e-01, -4.73220789e-02, -1.08611688e-01,\n",
       "         2.24511416e-01,  8.51931329e-03],\n",
       "       [ 1.92280561e-01, -5.77116204e-02, -1.06698608e-01,\n",
       "         1.95988230e-01,  7.65882743e-03],\n",
       "       [ 1.95964501e-01,  3.85349821e-02,  7.33379581e-02,\n",
       "         5.81429459e-03, -6.89302202e-02],\n",
       "       [ 1.27370073e-01,  1.94931477e-01,  2.01604201e-01,\n",
       "         3.19320527e-01,  1.12123724e-01],\n",
       "       [ 1.57091651e-01,  1.63656950e-01,  2.26516741e-01,\n",
       "         1.37413675e-01, -3.39360663e-02],\n",
       "       [ 1.44718454e-01, -1.09251382e-02,  3.24785579e-01,\n",
       "         1.39186032e-01, -1.62063502e-01],\n",
       "       [ 1.46170343e-01, -2.35450969e-01,  1.51403819e-03,\n",
       "        -2.80863481e-01, -1.55919141e-01],\n",
       "       [ 1.69830030e-01, -2.36021991e-01,  3.30442472e-02,\n",
       "        -1.10483250e-01, -3.49628496e-02],\n",
       "       [ 1.70035414e-01, -2.35401520e-01,  1.83430030e-02,\n",
       "        -1.34909651e-01, -4.50096236e-02],\n",
       "       [ 1.59445564e-01, -7.79588410e-02,  1.08227497e-01,\n",
       "        -6.88951827e-02,  5.09780613e-01],\n",
       "       [ 1.65005051e-01, -2.37822217e-01,  2.28440973e-02,\n",
       "        -1.65332037e-01, -3.86863568e-02],\n",
       "       [ 1.65769403e-01, -2.36291510e-01,  4.64044530e-02,\n",
       "        -7.11041383e-02,  2.85336985e-02],\n",
       "       [ 1.68141237e-01, -2.42537242e-01,  3.14115134e-02,\n",
       "        -1.05025243e-01, -1.46528952e-02],\n",
       "       [ 1.68749201e-01, -2.41054113e-01,  2.31222067e-02,\n",
       "        -1.24265676e-01, -1.82055531e-02],\n",
       "       [ 1.81918512e-01, -1.10583563e-01,  1.70101642e-01,\n",
       "        -8.49238031e-02, -8.87577401e-02],\n",
       "       [ 1.29582170e-01, -1.87941317e-04,  3.47777229e-01,\n",
       "         1.61900641e-01,  1.28939718e-01],\n",
       "       [ 1.53668977e-01, -1.36328426e-02,  3.47686613e-01,\n",
       "         4.69110257e-02, -2.17780060e-02]])"
      ]
     },
     "execution_count": 97,
     "metadata": {},
     "output_type": "execute_result"
    }
   ],
   "execution_count": 97
  },
  {
   "metadata": {
    "ExecuteTime": {
     "end_time": "2025-02-06T22:20:08.993950Z",
     "start_time": "2025-02-06T22:20:08.961840Z"
    }
   },
   "cell_type": "code",
   "source": [
    "original_values = pd.read_csv(os.path.join(os.path.dirname(indices_path), \"variables_originales_exp.csv\"))\n",
    "\n",
    "\n",
    "# Lista de columnas exp1 a exp12\n",
    "exp_cols = [f'exp{i}' for i in range(1, 13)]\n",
    "\n",
    "# Calcular la diferencia logarítmica de 12 períodos para cada variable exp1 a exp12\n",
    "for col in exp_cols:\n",
    "    original_values[f'dlog_{col}'] = np.log(original_values[col]) - np.log(original_values[col].shift(12))\n",
    "# Calcular la diferencia logarítmica con un rezago de 1 período\n",
    "for col in exp_cols:\n",
    "    original_values[f'dlog_{col}_lag1'] = np.log(original_values[col].shift(1)) - np.log(original_values[col].shift(13))\n",
    "\n",
    "# Calcular la diferencia logarítmica con un rezago de 2 períodos\n",
    "for col in exp_cols:\n",
    "    original_values[f'dlog_{col}_lag2'] = np.log(original_values[col].shift(2)) - np.log(original_values[col].shift(14))\n",
    "\n",
    "# Mostrar los primeros valores\n",
    "original_values\n",
    "date = original_values['_date_']"
   ],
   "id": "9fbfe13cecd70289",
   "outputs": [],
   "execution_count": 98
  },
  {
   "metadata": {
    "ExecuteTime": {
     "end_time": "2025-02-06T22:20:09.814034Z",
     "start_time": "2025-02-06T22:20:09.807023Z"
    }
   },
   "cell_type": "code",
   "source": [
    "or_values = original_values.to_numpy()\n",
    "\n",
    "or_values = or_values[:, 13:]\n",
    "print(or_values.shape)\n"
   ],
   "id": "7a081362ae5cc4c6",
   "outputs": [
    {
     "name": "stdout",
     "output_type": "stream",
     "text": [
      "(384, 36)\n"
     ]
    }
   ],
   "execution_count": 99
  },
  {
   "metadata": {
    "ExecuteTime": {
     "end_time": "2025-02-06T22:20:10.942071Z",
     "start_time": "2025-02-06T22:20:10.927558Z"
    }
   },
   "cell_type": "code",
   "source": [
    "print(np.shape(or_values))\n",
    "print(np.shape(fact_load))\n",
    "\n",
    "\n",
    "\n",
    "y = np.dot(or_values, fact_load)\n",
    "# print(y.shape)\n",
    "\n",
    "#concatenate the date as first column with the data\n",
    "y = np.concatenate((date.to_numpy().reshape(-1, 1), y), axis=1)\n",
    "\n",
    "y[122, 1]"
   ],
   "id": "13adba8e9ca23f1",
   "outputs": [
    {
     "name": "stdout",
     "output_type": "stream",
     "text": [
      "(384, 36)\n",
      "(36, 5)\n"
     ]
    },
    {
     "data": {
      "text/plain": [
       "0.19712870793259918"
      ]
     },
     "execution_count": 100,
     "metadata": {},
     "output_type": "execute_result"
    }
   ],
   "execution_count": 100
  },
  {
   "metadata": {
    "ExecuteTime": {
     "end_time": "2025-02-06T22:20:11.811149Z",
     "start_time": "2025-02-06T22:20:11.789116Z"
    }
   },
   "cell_type": "code",
   "source": [
    "FEXPeviews = pd.read_csv(\"FEXPeviews.txt\", delimiter=\"\\t\")\n",
    "\n",
    "FEXPeviews"
   ],
   "id": "326db5d6bf9ce219",
   "outputs": [
    {
     "data": {
      "text/plain": [
       "         _date_  fexp1f  fexp2f  fexp3f  fexp4f  fexp5f\n",
       "0    1995-01-01     NaN     NaN     NaN     NaN     NaN\n",
       "1    1995-02-01     NaN     NaN     NaN     NaN     NaN\n",
       "2    1995-03-01     NaN     NaN     NaN     NaN     NaN\n",
       "3    1995-04-01     NaN     NaN     NaN     NaN     NaN\n",
       "4    1995-05-01     NaN     NaN     NaN     NaN     NaN\n",
       "..          ...     ...     ...     ...     ...     ...\n",
       "379  2026-08-01     NaN     NaN     NaN     NaN     NaN\n",
       "380  2026-09-01     NaN     NaN     NaN     NaN     NaN\n",
       "381  2026-10-01     NaN     NaN     NaN     NaN     NaN\n",
       "382  2026-11-01     NaN     NaN     NaN     NaN     NaN\n",
       "383  2026-12-01     NaN     NaN     NaN     NaN     NaN\n",
       "\n",
       "[384 rows x 6 columns]"
      ],
      "text/html": [
       "<div>\n",
       "<style scoped>\n",
       "    .dataframe tbody tr th:only-of-type {\n",
       "        vertical-align: middle;\n",
       "    }\n",
       "\n",
       "    .dataframe tbody tr th {\n",
       "        vertical-align: top;\n",
       "    }\n",
       "\n",
       "    .dataframe thead th {\n",
       "        text-align: right;\n",
       "    }\n",
       "</style>\n",
       "<table border=\"1\" class=\"dataframe\">\n",
       "  <thead>\n",
       "    <tr style=\"text-align: right;\">\n",
       "      <th></th>\n",
       "      <th>_date_</th>\n",
       "      <th>fexp1f</th>\n",
       "      <th>fexp2f</th>\n",
       "      <th>fexp3f</th>\n",
       "      <th>fexp4f</th>\n",
       "      <th>fexp5f</th>\n",
       "    </tr>\n",
       "  </thead>\n",
       "  <tbody>\n",
       "    <tr>\n",
       "      <th>0</th>\n",
       "      <td>1995-01-01</td>\n",
       "      <td>NaN</td>\n",
       "      <td>NaN</td>\n",
       "      <td>NaN</td>\n",
       "      <td>NaN</td>\n",
       "      <td>NaN</td>\n",
       "    </tr>\n",
       "    <tr>\n",
       "      <th>1</th>\n",
       "      <td>1995-02-01</td>\n",
       "      <td>NaN</td>\n",
       "      <td>NaN</td>\n",
       "      <td>NaN</td>\n",
       "      <td>NaN</td>\n",
       "      <td>NaN</td>\n",
       "    </tr>\n",
       "    <tr>\n",
       "      <th>2</th>\n",
       "      <td>1995-03-01</td>\n",
       "      <td>NaN</td>\n",
       "      <td>NaN</td>\n",
       "      <td>NaN</td>\n",
       "      <td>NaN</td>\n",
       "      <td>NaN</td>\n",
       "    </tr>\n",
       "    <tr>\n",
       "      <th>3</th>\n",
       "      <td>1995-04-01</td>\n",
       "      <td>NaN</td>\n",
       "      <td>NaN</td>\n",
       "      <td>NaN</td>\n",
       "      <td>NaN</td>\n",
       "      <td>NaN</td>\n",
       "    </tr>\n",
       "    <tr>\n",
       "      <th>4</th>\n",
       "      <td>1995-05-01</td>\n",
       "      <td>NaN</td>\n",
       "      <td>NaN</td>\n",
       "      <td>NaN</td>\n",
       "      <td>NaN</td>\n",
       "      <td>NaN</td>\n",
       "    </tr>\n",
       "    <tr>\n",
       "      <th>...</th>\n",
       "      <td>...</td>\n",
       "      <td>...</td>\n",
       "      <td>...</td>\n",
       "      <td>...</td>\n",
       "      <td>...</td>\n",
       "      <td>...</td>\n",
       "    </tr>\n",
       "    <tr>\n",
       "      <th>379</th>\n",
       "      <td>2026-08-01</td>\n",
       "      <td>NaN</td>\n",
       "      <td>NaN</td>\n",
       "      <td>NaN</td>\n",
       "      <td>NaN</td>\n",
       "      <td>NaN</td>\n",
       "    </tr>\n",
       "    <tr>\n",
       "      <th>380</th>\n",
       "      <td>2026-09-01</td>\n",
       "      <td>NaN</td>\n",
       "      <td>NaN</td>\n",
       "      <td>NaN</td>\n",
       "      <td>NaN</td>\n",
       "      <td>NaN</td>\n",
       "    </tr>\n",
       "    <tr>\n",
       "      <th>381</th>\n",
       "      <td>2026-10-01</td>\n",
       "      <td>NaN</td>\n",
       "      <td>NaN</td>\n",
       "      <td>NaN</td>\n",
       "      <td>NaN</td>\n",
       "      <td>NaN</td>\n",
       "    </tr>\n",
       "    <tr>\n",
       "      <th>382</th>\n",
       "      <td>2026-11-01</td>\n",
       "      <td>NaN</td>\n",
       "      <td>NaN</td>\n",
       "      <td>NaN</td>\n",
       "      <td>NaN</td>\n",
       "      <td>NaN</td>\n",
       "    </tr>\n",
       "    <tr>\n",
       "      <th>383</th>\n",
       "      <td>2026-12-01</td>\n",
       "      <td>NaN</td>\n",
       "      <td>NaN</td>\n",
       "      <td>NaN</td>\n",
       "      <td>NaN</td>\n",
       "      <td>NaN</td>\n",
       "    </tr>\n",
       "  </tbody>\n",
       "</table>\n",
       "<p>384 rows × 6 columns</p>\n",
       "</div>"
      ]
     },
     "execution_count": 101,
     "metadata": {},
     "output_type": "execute_result"
    }
   ],
   "execution_count": 101
  },
  {
   "metadata": {
    "ExecuteTime": {
     "end_time": "2025-02-06T22:20:12.964344Z",
     "start_time": "2025-02-06T22:20:12.946134Z"
    }
   },
   "cell_type": "code",
   "source": "pca.transform(data_scaled)",
   "id": "a08a81daec3169a0",
   "outputs": [
    {
     "data": {
      "text/plain": [
       "array([[-0.14082494, -0.3680257 , -0.31434945,  0.15697813, -0.46486961],\n",
       "       [-0.14488085,  0.0613828 , -0.01260377, -0.54761979, -0.41428865],\n",
       "       [-0.15305285, -0.00697161, -0.03336654,  0.11590285, -0.63478586],\n",
       "       ...,\n",
       "       [ 0.61610091, -1.04707833, -1.29761821,  0.00662211,  0.0935687 ],\n",
       "       [ 0.5420275 , -0.65076322, -1.10343849, -0.30345287,  0.05508169],\n",
       "       [ 0.54108834, -0.51502838, -1.13308383, -0.09672702,  0.04186314]],\n",
       "      shape=(250, 5))"
      ]
     },
     "execution_count": 102,
     "metadata": {},
     "output_type": "execute_result"
    }
   ],
   "execution_count": 102
  },
  {
   "metadata": {
    "ExecuteTime": {
     "end_time": "2025-02-06T22:26:46.939295Z",
     "start_time": "2025-02-06T22:26:46.927375Z"
    }
   },
   "cell_type": "code",
   "source": "data_scaled",
   "id": "eb1ba456012cc469",
   "outputs": [
    {
     "data": {
      "text/plain": [
       "array([[-0.5290154 , -0.06744629, -0.07143506, ...,  0.26274968,\n",
       "        -0.48960077,  0.3180935 ],\n",
       "       [ 0.29497762, -0.09774818, -0.25652948, ..., -0.07126818,\n",
       "        -0.21697279,  0.20137117],\n",
       "       [-0.0014292 , -0.01190444, -0.12771987, ...,  0.37203346,\n",
       "        -0.90035328,  0.29712309],\n",
       "       ...,\n",
       "       [-0.64576055,  0.10142477,  0.25858709, ..., -0.03417464,\n",
       "        -0.31709749, -0.28585641],\n",
       "       [-0.20844046,  0.17514208,  0.3428313 , ..., -0.06127333,\n",
       "        -0.13240987, -0.41974433],\n",
       "       [-0.23888979,  0.13511414,  0.26600878, ...,  0.030562  ,\n",
       "        -0.47401613, -0.40601399]], shape=(250, 36))"
      ]
     },
     "execution_count": 103,
     "metadata": {},
     "output_type": "execute_result"
    }
   ],
   "execution_count": 103
  }
 ],
 "metadata": {
  "kernelspec": {
   "display_name": "Python 3",
   "language": "python",
   "name": "python3"
  },
  "language_info": {
   "codemirror_mode": {
    "name": "ipython",
    "version": 2
   },
   "file_extension": ".py",
   "mimetype": "text/x-python",
   "name": "python",
   "nbconvert_exporter": "python",
   "pygments_lexer": "ipython2",
   "version": "2.7.6"
  }
 },
 "nbformat": 4,
 "nbformat_minor": 5
}
