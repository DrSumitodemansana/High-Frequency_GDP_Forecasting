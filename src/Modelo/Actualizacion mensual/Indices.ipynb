{
 "cells": [
  {
   "cell_type": "code",
   "id": "initial_id",
   "metadata": {
    "collapsed": true,
    "ExecuteTime": {
     "end_time": "2025-02-04T16:51:35.662748Z",
     "start_time": "2025-02-04T16:51:35.654748Z"
    }
   },
   "source": [
    "import pandas as pd\n",
    "INDEXP = pd.read_csv (r'C:\\Users\\lucas\\High-Frequency_GDP_Forecasting\\src\\Modelo\\Actualizacion mensual\\Indices\\INDEXP.csv')"
   ],
   "outputs": [],
   "execution_count": 8
  },
  {
   "metadata": {
    "ExecuteTime": {
     "end_time": "2025-02-04T17:25:36.017139Z",
     "start_time": "2025-02-04T17:25:35.944139Z"
    }
   },
   "cell_type": "code",
   "source": [
    "from sklearn.decomposition import PCA\n",
    "from sklearn.preprocessing import StandardScaler\n",
    "\n",
    "# Seleccionar todas las columnas menos la primera\n",
    "INDEXP_pca = INDEXP.iloc[:, 1:].dropna()  # Esto selecciona todas las columnas excepto la primera y elimina NaN\n",
    "\n",
    "# Estandarizar datos (equivalente a matriz de correlación en PCA)\n",
    "scaler = StandardScaler()\n",
    "data_scaled = scaler.fit_transform(INDEXP_pca)\n",
    "\n",
    "# Aplicar PCA\n",
    "pca = PCA(n_components=5)\n",
    "pca_result = pca.fit_transform(data_scaled)\n",
    "\n",
    "# Convertir resultados en DataFrame\n",
    "pca_df = pd.DataFrame(pca_result, index=INDEXP_pca.index, columns=[f'PC{i+1}' for i in range(5)])\n",
    "\n",
    "# 6. Ver la varianza explicada por cada componente\n",
    "explained_variance = pca.explained_variance_ratio_\n",
    "\n",
    "# 7. Cargas factoriales (coeficientes de los componentes principales)\n",
    "loadings = pd.DataFrame(pca.components_, columns=INDEXP_pca.columns, index=[f'PC{i+1}' for i in range(5)])\n",
    "\n",
    "# Mostrar las cargas factoriales\n",
    "print(\"Cargas factoriales:\")\n",
    "print(loadings)\n",
    "\n",
    "# 8. Guardar resultados\n",
    "pca_df.to_excel(\"PCA_Result.xlsx\", sheet_name=\"PCA\")\n",
    "\n",
    "# 9. Mostrar resultados\n",
    "print(\"Varianza explicada por componente:\", explained_variance)"
   ],
   "id": "3bfcb39aa0f10943",
   "outputs": [
    {
     "name": "stdout",
     "output_type": "stream",
     "text": [
      "Cargas factoriales:\n",
      "     @dlog(exp1,0,12)  @dlog(exp2,0,12)  @dlog(exp3,0,12)  @dlog(exp4,0,12)  \\\n",
      "PC1          0.120798          0.188353          0.174244          0.179010   \n",
      "PC2          0.261696          0.018110          0.156857          0.125594   \n",
      "PC3          0.175128         -0.163118         -0.213879         -0.210183   \n",
      "PC4         -0.271865          0.112744         -0.024490         -0.062828   \n",
      "PC5         -0.251008         -0.054293         -0.064256         -0.061677   \n",
      "\n",
      "     @dlog(exp5,0,12)  @dlog(exp6,0,12)  @dlog(exp7,0,12)  @dlog(exp8,0,12)  \\\n",
      "PC1          0.142445          0.181704          0.159469          0.169866   \n",
      "PC2          0.174117          0.104289          0.205319          0.169373   \n",
      "PC3         -0.034352         -0.196224         -0.241102         -0.233973   \n",
      "PC4         -0.280597         -0.040104         -0.000966         -0.015436   \n",
      "PC5          0.481417         -0.036218         -0.049819         -0.057274   \n",
      "\n",
      "     @dlog(exp9,0,12)  @dlog(exp10,0,12)  ...  @dlog(exp3(-2),0,12)  \\\n",
      "PC1          0.173799           0.181205  ...              0.169830   \n",
      "PC2          0.153355           0.155679  ...             -0.236022   \n",
      "PC3         -0.227905           0.009060  ...              0.033044   \n",
      "PC4         -0.012528          -0.192434  ...             -0.110483   \n",
      "PC5         -0.048951          -0.092913  ...             -0.034963   \n",
      "\n",
      "     @dlog(exp4(-2),0,12)  @dlog(exp5(-2),0,12)  @dlog(exp6(-2),0,12)  \\\n",
      "PC1              0.170035              0.159446              0.165005   \n",
      "PC2             -0.235402             -0.077959             -0.237822   \n",
      "PC3              0.018343              0.108227              0.022844   \n",
      "PC4             -0.134910             -0.068895             -0.165332   \n",
      "PC5             -0.045010              0.509781             -0.038686   \n",
      "\n",
      "     @dlog(exp7(-2),0,12)  @dlog(exp8(-2),0,12)  @dlog(exp9(-2),0,12)  \\\n",
      "PC1              0.165769              0.168141              0.168749   \n",
      "PC2             -0.236292             -0.242537             -0.241054   \n",
      "PC3              0.046404              0.031412              0.023122   \n",
      "PC4             -0.071104             -0.105025             -0.124266   \n",
      "PC5              0.028534             -0.014653             -0.018206   \n",
      "\n",
      "     @dlog(exp10(-2),0,12)  @dlog(exp11(-2),0,12)  @dlog(exp12(-2),0,12)  \n",
      "PC1               0.181919               0.129582               0.153669  \n",
      "PC2              -0.110584              -0.000188              -0.013633  \n",
      "PC3               0.170102               0.347777               0.347687  \n",
      "PC4              -0.084924               0.161901               0.046911  \n",
      "PC5              -0.088758               0.128940              -0.021778  \n",
      "\n",
      "[5 rows x 36 columns]\n",
      "Varianza explicada por componente: [0.66880315 0.13342479 0.07517508 0.03002344 0.02588353]\n"
     ]
    }
   ],
   "execution_count": 10
  },
  {
   "metadata": {},
   "cell_type": "code",
   "outputs": [],
   "execution_count": null,
   "source": "",
   "id": "1375c060c2fd8d51"
  }
 ],
 "metadata": {
  "kernelspec": {
   "display_name": "Python 3",
   "language": "python",
   "name": "python3"
  },
  "language_info": {
   "codemirror_mode": {
    "name": "ipython",
    "version": 2
   },
   "file_extension": ".py",
   "mimetype": "text/x-python",
   "name": "python",
   "nbconvert_exporter": "python",
   "pygments_lexer": "ipython2",
   "version": "2.7.6"
  }
 },
 "nbformat": 4,
 "nbformat_minor": 5
}
