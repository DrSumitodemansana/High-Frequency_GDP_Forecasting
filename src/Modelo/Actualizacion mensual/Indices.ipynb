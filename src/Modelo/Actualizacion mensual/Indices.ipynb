{
 "cells": [
  {
   "cell_type": "code",
   "id": "initial_id",
   "metadata": {
    "collapsed": true,
    "ExecuteTime": {
     "end_time": "2025-02-05T18:17:28.219911Z",
     "start_time": "2025-02-05T18:17:28.207882Z"
    }
   },
   "source": [
    "import pandas as pd\n",
    "INDEXP = pd.read_csv (r'C:\\Users\\lucas\\High-Frequency_GDP_Forecasting\\src\\Modelo\\Actualizacion mensual\\Indices\\INDEXP.csv')"
   ],
   "outputs": [],
   "execution_count": 2
  },
  {
   "metadata": {
    "ExecuteTime": {
     "end_time": "2025-02-05T18:17:29.952779Z",
     "start_time": "2025-02-05T18:17:29.940256Z"
    }
   },
   "cell_type": "code",
   "source": [
    "from sklearn.decomposition import PCA\n",
    "from sklearn.preprocessing import StandardScaler\n",
    "\n",
    "# Seleccionar todas las columnas menos la primera\n",
    "INDEXP_pca = INDEXP.iloc[:, 1:].dropna()  # Esto selecciona todas las columnas excepto la primera y elimina NaN\n",
    "\n",
    "# Estandarizar datos (equivalente a matriz de correlación en PCA)\n",
    "scaler = StandardScaler()\n",
    "data_scaled = scaler.fit_transform(INDEXP_pca)\n",
    "\n",
    "# Aplicar PCA\n",
    "pca = PCA(n_components=5)\n",
    "pca_result = pca.fit_transform(data_scaled)\n",
    "\n",
    "# Convertir resultados en DataFrame\n",
    "pca_df = pd.DataFrame(pca_result, index=INDEXP_pca.index, columns=[f'PC{i+1}' for i in range(5)])"
   ],
   "id": "3bfcb39aa0f10943",
   "outputs": [],
   "execution_count": 3
  },
  {
   "metadata": {
    "ExecuteTime": {
     "end_time": "2025-02-05T18:18:12.834198Z",
     "start_time": "2025-02-05T18:18:12.805643Z"
    }
   },
   "cell_type": "code",
   "source": [
    "# 6. Ver la varianza explicada por cada componente\n",
    "explained_variance = pca.explained_variance_ratio_\n",
    "\n",
    "# 7. Cargas factoriales (coeficientes de los componentes principales)\n",
    "loadings = pd.DataFrame(pca.components_, columns=INDEXP_pca.columns, index=[f'PC{i+1}' for i in range(5)]).T\n",
    "\n",
    "# Mostrar las cargas factoriales\n",
    "print(\"Cargas factoriales:\")\n",
    "print(loadings)\n",
    "\n",
    "# 8. Guardar resultados\n",
    "pca_df.to_excel(\"PCA_Result.xlsx\", sheet_name=\"PCA\")\n",
    "\n",
    "# 9. Mostrar resultados\n",
    "print(\"Varianza explicada por componente:\", explained_variance)"
   ],
   "id": "1375c060c2fd8d51",
   "outputs": [
    {
     "name": "stdout",
     "output_type": "stream",
     "text": [
      "Cargas factoriales:\n",
      "                            PC1       PC2       PC3       PC4       PC5\n",
      "@dlog(exp1,0,12)       0.120798  0.261696  0.175128 -0.271865 -0.251008\n",
      "@dlog(exp2,0,12)       0.188353  0.018110 -0.163118  0.112744 -0.054293\n",
      "@dlog(exp3,0,12)       0.174244  0.156857 -0.213879 -0.024490 -0.064256\n",
      "@dlog(exp4,0,12)       0.179010  0.125594 -0.210183 -0.062828 -0.061677\n",
      "@dlog(exp5,0,12)       0.142445  0.174117 -0.034352 -0.280597  0.481417\n",
      "@dlog(exp6,0,12)       0.181704  0.104289 -0.196224 -0.040104 -0.036218\n",
      "@dlog(exp7,0,12)       0.159469  0.205319 -0.241102 -0.000966 -0.049819\n",
      "@dlog(exp8,0,12)       0.169866  0.169373 -0.233973 -0.015436 -0.057274\n",
      "@dlog(exp9,0,12)       0.173799  0.153355 -0.227905 -0.012528 -0.048951\n",
      "@dlog(exp10,0,12)      0.181205  0.155679  0.009060 -0.192434 -0.092913\n",
      "@dlog(exp11,0,12)      0.094772  0.311365  0.145481 -0.285499 -0.023166\n",
      "@dlog(exp12,0,12)      0.131664  0.267259  0.168251 -0.232707 -0.100235\n",
      "@dlog(exp1(-1),0,12)   0.145586  0.162451  0.207874  0.252051 -0.160575\n",
      "@dlog(exp2(-1),0,12)   0.182495 -0.171395 -0.043577 -0.031213 -0.073332\n",
      "@dlog(exp3(-1),0,12)   0.192873 -0.050462 -0.096754  0.200539 -0.009983\n",
      "@dlog(exp4(-1),0,12)   0.193429 -0.063396 -0.104565  0.151624 -0.020131\n",
      "@dlog(exp5(-1),0,12)   0.164168  0.079467  0.005677 -0.031476  0.521612\n",
      "@dlog(exp6(-1),0,12)   0.191427 -0.084605 -0.088514  0.109336 -0.008216\n",
      "@dlog(exp7(-1),0,12)   0.186234 -0.022552 -0.106614  0.277754  0.041378\n",
      "@dlog(exp8(-1),0,12)   0.190964 -0.047322 -0.108612  0.224511  0.008519\n",
      "@dlog(exp9(-1),0,12)   0.192281 -0.057712 -0.106699  0.195988  0.007659\n",
      "@dlog(exp10(-1),0,12)  0.195965  0.038535  0.073338  0.005814 -0.068930\n",
      "@dlog(exp11(-1),0,12)  0.127370  0.194931  0.201604  0.319321  0.112124\n",
      "@dlog(exp12(-1),0,12)  0.157092  0.163657  0.226517  0.137414 -0.033936\n",
      "@dlog(exp1(-2),0,12)   0.144718 -0.010925  0.324786  0.139186 -0.162064\n",
      "@dlog(exp2(-2),0,12)   0.146170 -0.235451  0.001514 -0.280863 -0.155919\n",
      "@dlog(exp3(-2),0,12)   0.169830 -0.236022  0.033044 -0.110483 -0.034963\n",
      "@dlog(exp4(-2),0,12)   0.170035 -0.235402  0.018343 -0.134910 -0.045010\n",
      "@dlog(exp5(-2),0,12)   0.159446 -0.077959  0.108227 -0.068895  0.509781\n",
      "@dlog(exp6(-2),0,12)   0.165005 -0.237822  0.022844 -0.165332 -0.038686\n",
      "@dlog(exp7(-2),0,12)   0.165769 -0.236292  0.046404 -0.071104  0.028534\n",
      "@dlog(exp8(-2),0,12)   0.168141 -0.242537  0.031412 -0.105025 -0.014653\n",
      "@dlog(exp9(-2),0,12)   0.168749 -0.241054  0.023122 -0.124266 -0.018206\n",
      "@dlog(exp10(-2),0,12)  0.181919 -0.110584  0.170102 -0.084924 -0.088758\n",
      "@dlog(exp11(-2),0,12)  0.129582 -0.000188  0.347777  0.161901  0.128940\n",
      "@dlog(exp12(-2),0,12)  0.153669 -0.013633  0.347687  0.046911 -0.021778\n",
      "Varianza explicada por componente: [0.66880315 0.13342479 0.07517508 0.03002344 0.02588353]\n"
     ]
    }
   ],
   "execution_count": 5
  },
  {
   "metadata": {},
   "cell_type": "code",
   "outputs": [],
   "execution_count": null,
   "source": "",
   "id": "83a7895dc58f8ecc"
  }
 ],
 "metadata": {
  "kernelspec": {
   "display_name": "Python 3",
   "language": "python",
   "name": "python3"
  },
  "language_info": {
   "codemirror_mode": {
    "name": "ipython",
    "version": 2
   },
   "file_extension": ".py",
   "mimetype": "text/x-python",
   "name": "python",
   "nbconvert_exporter": "python",
   "pygments_lexer": "ipython2",
   "version": "2.7.6"
  }
 },
 "nbformat": 4,
 "nbformat_minor": 5
}
